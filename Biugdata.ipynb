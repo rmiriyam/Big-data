{
  "cells": [
    {
      "cell_type": "code",
      "execution_count": null,
      "metadata": {
        "id": "LG6IO-bOrcjV",
        "colab": {
          "base_uri": "https://localhost:8080/"
        },
        "outputId": "e53d8dd5-5ad9-4b08-c1df-921f2579d9b3"
      },
      "outputs": [
        {
          "output_type": "stream",
          "name": "stdout",
          "text": [
            "Looking in indexes: https://pypi.org/simple, https://us-python.pkg.dev/colab-wheels/public/simple/\n",
            "Collecting Faker\n",
            "  Downloading Faker-18.4.0-py3-none-any.whl (1.7 MB)\n",
            "\u001b[2K     \u001b[90m━━━━━━━━━━━━━━━━━━━━━━━━━━━━━━━━━━━━━━━━\u001b[0m \u001b[32m1.7/1.7 MB\u001b[0m \u001b[31m17.0 MB/s\u001b[0m eta \u001b[36m0:00:00\u001b[0m\n",
            "\u001b[?25hRequirement already satisfied: python-dateutil>=2.4 in /usr/local/lib/python3.9/dist-packages (from Faker) (2.8.2)\n",
            "Requirement already satisfied: six>=1.5 in /usr/local/lib/python3.9/dist-packages (from python-dateutil>=2.4->Faker) (1.16.0)\n",
            "Installing collected packages: Faker\n",
            "Successfully installed Faker-18.4.0\n"
          ]
        }
      ],
      "source": [
        "import pandas as pd\n",
        "import random\n",
        "!pip install Faker\n",
        "from faker import Faker\n",
        "from random import randrange\n",
        "import time"
      ]
    },
    {
      "cell_type": "code",
      "execution_count": null,
      "metadata": {
        "id": "qs8mgZtTrgAs"
      },
      "outputs": [],
      "source": [
        "user_count = 100\n",
        "fake = Faker()\n",
        "users = []\n"
      ]
    },
    {
      "cell_type": "code",
      "execution_count": null,
      "metadata": {
        "id": "lLXxzSt3rkW7"
      },
      "outputs": [],
      "source": [
        "for user_id in range(user_count):\n",
        "  name = fake.name()\n",
        "  gender = random.choice([\"M\", \"F\"])\n",
        "  age = random.randint(18, 60)\n",
        "  email = fake.ascii_email()\n",
        "  pincode = fake.ean(length=8)[:6]\n",
        "  salary = fake.pyfloat(right_digits=2, positive=True, min_value=1, max_value=100)*1000\n",
        " \n",
        "  users.append([name, gender, age, email, pincode, salary])\n",
        "\n",
        "\n",
        "\n",
        "\n",
        "\n"
      ]
    },
    {
      "cell_type": "code",
      "execution_count": null,
      "metadata": {
        "id": "OOu9QnOErmJ0"
      },
      "outputs": [],
      "source": [
        "df = pd.DataFrame(users, columns=['Name', 'Gender','Age', 'Email', 'Pincode', 'Salary'])\n"
      ]
    },
    {
      "cell_type": "code",
      "execution_count": null,
      "metadata": {
        "id": "yJD6wJlFsRHC"
      },
      "outputs": [],
      "source": [
        "weight_table = {\n",
        "              'name': 4,\n",
        "              'gender': 2,\n",
        "              'age': 3, \n",
        "              'email': 5,\n",
        "              'pincode': 6,\n",
        "              'salary': 1   \n",
        "            }\n"
      ]
    },
    {
      "cell_type": "code",
      "execution_count": null,
      "metadata": {
        "id": "k6rjIkUfsSsW"
      },
      "outputs": [],
      "source": [
        "def rangeEncryption(data):\n",
        "  start = time.time()\n",
        "  res = []\n",
        "  for val in data:\n",
        "    res.append(\"[\" + str(int(val/10)*10) + \"-\" + str(int(val/10)*10+9) + \"]\")\n",
        "  end = time.time()\n",
        "  t = (end - start)*1000\n",
        "  return {'data': res, 'time': t}\n"
      ]
    },
    {
      "cell_type": "code",
      "execution_count": null,
      "metadata": {
        "id": "yQ9OvZ6YsYC5"
      },
      "outputs": [],
      "source": [
        "def pinEncryption(data):\n",
        "  start = time.time()\n",
        "  res = []\n",
        "  for val in data:\n",
        "    res.append(val[:3] + \"**\" + val[-1:])\n",
        "  end = time.time()\n",
        "  t = (end - start)*1000\n",
        "  return {'data': res, 'time': t}\n"
      ]
    },
    {
      "cell_type": "code",
      "execution_count": null,
      "metadata": {
        "id": "RrEDZv54saUn"
      },
      "outputs": [],
      "source": [
        "def mailEncryption(data):\n",
        "  start = time.time()\n",
        "  res = []\n",
        "  for val in data:\n",
        "    updatedVal = val.split(\"@\") [0][0] + \"*\"*(len(val.split(\"@\") [0])-3) + val.split(\"@\") [0][-2:] + \"@\" + val.split(\"@\") [1]\n",
        "    res.append(updatedVal)\n",
        "  end = time.time()\n",
        "  t = (end - start) *1000\n",
        "  return {'data': res, 'time': t}\n"
      ]
    },
    {
      "cell_type": "code",
      "execution_count": null,
      "metadata": {
        "id": "kWQ12VZMsiea"
      },
      "outputs": [],
      "source": [
        "def rangeEncryption(data):\n",
        "    start = time.time()\n",
        "    res = []\n",
        "    for val in data:\n",
        "        res.append(\"[\" + str(int(val/10)*10) + \"-\" + str(int(val/10)*10+9) + \"]\")\n",
        "    end = time.time()\n",
        "    t = (end - start)*1000\n",
        "    return {'data': res, 'time': t}\n"
      ]
    },
    {
      "cell_type": "code",
      "execution_count": null,
      "metadata": {
        "id": "WuOFjNiqsmfC"
      },
      "outputs": [],
      "source": [
        "def pinEncryption(data):\n",
        "    start = time.time()\n",
        "    res = []\n",
        "    for val in data:\n",
        "        res.append(val[:3] + \"**\" + val[-1:])\n",
        "    end = time.time()\n",
        "    t = (end - start)*1000\n",
        "    return {'data': res, 'time': t}\n"
      ]
    },
    {
      "cell_type": "code",
      "execution_count": null,
      "metadata": {
        "id": "BOERrYcnsqy0"
      },
      "outputs": [],
      "source": [
        "def mailEncryption(data):\n",
        "    start = time.time()\n",
        "    res = []\n",
        "    for val in data:\n",
        "        updatedVal = val.split(\"@\")[0][0] + \"*\"*(len(val.split(\"@\")[0])-3) + val.split(\"@\")[0][-2:] + \"@\" + val.split(\"@\")[1]\n",
        "        res.append(updatedVal)\n",
        "    end = time.time()\n",
        "    t = (end - start)*1000\n",
        "    return {'data': res, 'time': t}\n"
      ]
    },
    {
      "cell_type": "code",
      "execution_count": null,
      "metadata": {
        "id": "bm_AUAZ1swEY",
        "colab": {
          "base_uri": "https://localhost:8080/"
        },
        "outputId": "24c18b36-9207-4e9f-cac8-953bb4fda17c"
      },
      "outputs": [
        {
          "output_type": "stream",
          "name": "stdout",
          "text": [
            "{'age': 8.59488524590164, 'email': 11.491243835616439, 'pincode': 48.39581538461538}\n"
          ]
        }
      ],
      "source": [
        "age_time = rangeEncryption(df['Age'])['time']\n",
        "email_time = mailEncryption(df['Email'])['time']\n",
        "pincode_time = pinEncryption(df['Pincode']) ['time']\n",
        " \n",
        "s_table = {\n",
        "    'age': weight_table['age'] / age_time if age_time != 0 else 0.0,\n",
        "    'email': weight_table['email'] / email_time if email_time != 0 else 0.0,\n",
        "    'pincode': weight_table['pincode'] / pincode_time if pincode_time != 0 else 0.0\n",
        "}\n",
        " \n",
        "print(s_table)\n"
      ]
    },
    {
      "cell_type": "code",
      "execution_count": null,
      "metadata": {
        "id": "XvhW9YZTs0il",
        "colab": {
          "base_uri": "https://localhost:8080/"
        },
        "outputId": "33e31142-304f-43d3-df44-1581096e0299"
      },
      "outputs": [
        {
          "output_type": "stream",
          "name": "stdout",
          "text": [
            "['[10-19]', '[10-19]', '[10-19]', '[10-19]', '[10-19]', '[10-19]', '[10-19]', '[10-19]', '[10-19]', '[10-19]', '[20-29]', '[20-29]', '[20-29]', '[20-29]', '[20-29]', '[20-29]', '[20-29]', '[20-29]', '[20-29]', '[20-29]', '[20-29]', '[20-29]', '[20-29]', '[20-29]', '[20-29]', '[20-29]', '[20-29]', '[20-29]', '[20-29]', '[20-29]', '[20-29]', '[20-29]', '[20-29]', '[20-29]', '[20-29]', '[20-29]', '[20-29]', '[20-29]', '[20-29]', '[20-29]', '[20-29]', '[20-29]', '[20-29]', '[20-29]', '[20-29]', '[20-29]', '[20-29]', '[20-29]', '[20-29]', '[20-29]', '[20-29]', '[30-39]', '[30-39]', '[30-39]', '[30-39]', '[30-39]', '[30-39]', '[30-39]', '[30-39]', '[30-39]', '[30-39]', '[30-39]', '[30-39]', '[30-39]', '[30-39]', '[30-39]', '[30-39]', '[30-39]', '[30-39]', '[30-39]', '[30-39]', '[30-39]', '[30-39]', '[30-39]', '[30-39]', '[30-39]', '[30-39]', '[30-39]', '[30-39]', '[30-39]', '[30-39]', '[30-39]', '[30-39]', '[30-39]', '[30-39]', '[30-39]', '[30-39]', '[30-39]', '[30-39]', '[30-39]', '[30-39]', '[30-39]', '[30-39]', '[30-39]', '[30-39]', '[30-39]', '[30-39]', '[30-39]', '[30-39]', '[40-49]', '[40-49]', '[40-49]', '[40-49]', '[40-49]', '[40-49]', '[40-49]', '[40-49]', '[40-49]', '[40-49]', '[40-49]', '[40-49]', '[40-49]', '[40-49]', '[40-49]', '[40-49]', '[40-49]', '[40-49]', '[40-49]', '[40-49]', '[40-49]', '[40-49]', '[40-49]', '[40-49]', '[40-49]', '[40-49]', '[40-49]', '[40-49]', '[40-49]', '[40-49]', '[40-49]', '[40-49]', '[40-49]', '[40-49]', '[40-49]', '[40-49]', '[40-49]', '[40-49]', '[40-49]', '[40-49]', '[40-49]', '[40-49]', '[40-49]', '[40-49]', '[40-49]', '[40-49]', '[40-49]', '[50-59]', '[50-59]', '[50-59]', '[50-59]', '[50-59]', '[50-59]', '[50-59]', '[50-59]', '[50-59]', '[50-59]', '[50-59]', '[50-59]', '[50-59]', '[50-59]', '[50-59]', '[50-59]', '[50-59]', '[50-59]', '[50-59]', '[50-59]', '[50-59]', '[50-59]', '[50-59]', '[50-59]', '[50-59]', '[50-59]', '[50-59]', '[50-59]', '[50-59]', '[50-59]', '[50-59]', '[50-59]', '[50-59]', '[50-59]', '[50-59]', '[50-59]', '[50-59]', '[50-59]', '[50-59]', '[50-59]', '[50-59]', '[50-59]', '[50-59]', '[50-59]', '[50-59]', '[50-59]', '[50-59]', '[60-69]', '[60-69]', '[60-69]', '[60-69]', '[60-69]', '[60-69]', '[60-69]']\n",
            "rangeEncryption took 0.366 milliseconds to execute.\n",
            "[18, 19, 20, 21, 22, 23, 24, 25, 26, 27, 28, 29, 30, 31, 32, 33, 34, 35, 36, 37, 38, 39, 40, 41, 42, 43, 44, 45, 46, 47, 48, 49, 50, 51, 52, 53, 54, 55, 56, 57, 58, 59, 60]\n",
            "rangeEncryption took 0.155 milliseconds to execute.\n",
            "['a************on@gmail.com', 'a************on@wilson.net', 'a***********tt@phillips.com', 'a**********es@townsend-floyd.biz', 'a********ld@hotmail.com', 'a********on@johnson.com', 'a********re@yahoo.com', 'a********th@hotmail.com', 'a******44@gmail.com', 'a*****22@sanchez.com', 'a*****33@hotmail.com', 'a*****61@yahoo.com', 'a*****on@hotmail.com', 'a****28@hotmail.com', 'a****48@mendoza.net', 'a****on@olsen-delgado.net', 'a***en@hotmail.com', 'a**16@yahoo.com', 'b**********an@gmail.com', 'b**********is@henderson.com', 'b*********th@mckinney.com', 'b********in@hotmail.com', 'b*******10@montgomery.com', 'b*******61@jones.com', 'b*******an@hotmail.com', 'b******74@anderson.net', 'b**ay@yahoo.com', 'c***************tt@gmail.com', 'c*************am@yahoo.com', 'c************in@yahoo.com', 'c************ow@yahoo.com', 'c**********as@yahoo.com', 'c*******er@yahoo.com', 'c*******wn@hotmail.com', 'c******08@smith.com', 'c******91@yahoo.com', 'c******97@burch.com', 'c*****ff@barber.com', 'c*****on@hotmail.com', 'c****64@wiley.com', 'c***05@perkins.org', 'd*******ie@hotmail.com', 'd*******sh@adams.com', 'd******ce@yahoo.com', 'd*****05@gmail.com', 'd*****er@yahoo.com', 'd****78@lee.net', 'd****78@yahoo.com', 'd****ia@gmail.com', 'd***03@schmidt.biz', 'd***al@kerr.com', 'd***ls@morales-lucas.com', 'e**************ms@hotmail.com', 'e********84@hotmail.com', 'e********en@huber.com', 'e*****71@yahoo.com', 'e****er@hotmail.com', 'f************es@yahoo.com', 'f***********rt@kramer-gibbs.org', 'f****89@hawkins.biz', 'f****an@gmail.com', 'g**********ca@thomas.com', 'g*********da@gmail.com', 'g*********ey@daugherty.biz', 'g*********na@ward-boyle.net', 'g********en@hotmail.com', 'g*******on@ward.net', 'h**************ll@yahoo.com', 'h*******en@oliver.org', 'h*******ne@kirk.com', 'h*******ry@holt.org', 'i****er@ward.com', 'i****on@hotmail.com', 'i***ey@hotmail.com', 'i**az@coleman.biz', 'j*************ez@griffin.com', 'j**********yn@hotmail.com', 'j*********se@mcmillan.biz', 'j*******17@parker-johnson.info', 'j*******33@jennings.org', 'j*******bs@clements.net', 'j*******or@hotmail.com', 'j******04@hotmail.com', 'j******73@gmail.com', 'j******ck@gmail.com', 'j****28@smith.com', 'j****42@edwards-sims.biz', 'j****47@clarke.org', 'j****50@hotmail.com', 'j****51@yahoo.com', 'j****57@anderson-morales.info', 'j***97@allen.biz', 'j***re@gmail.com', 'k**********as@robertson.com', 'k**********on@gmail.com', 'k********an@martinez.com', 'k********en@clark.net', 'k*******21@yahoo.com', 'k******80@rogers.com', 'k*****27@bailey.net', 'k*****ez@green-molina.com', 'k*****ya@gmail.com', 'k****63@hotmail.com', 'k***19@yahoo.com', 'l**********ew@clark.com', 'l*******40@cox-murphy.info', 'l*******by@yahoo.com', 'l*****71@gmail.com', 'l****03@robertson.com', 'l****is@gmail.com', 'l***85@yahoo.com', 'l***ck@yahoo.com', 'm*************ie@jones.com', 'm************on@vega-ford.com', 'm***********ll@wiley.org', 'm***********rd@church.com', 'm**********el@yahoo.com', 'm*********am@yahoo.com', 'm*********nk@yahoo.com', 'm*********or@ayala-hall.biz', 'm*********tu@farley.net', 'm********hn@yahoo.com', 'm********on@smith-wright.com', 'm*******es@yahoo.com', 'm******20@davidson.com', 'm*****on@hotmail.com', 'm*****ro@thomas.com', 'n************la@carlson-copeland.com', 'n********on@williams.net', 'n********ua@patterson.com', 'n*******ez@shah.net', 'n*******ta@george.net', 'n*****45@thomas.info', 'n****44@price-smith.net', 'n****ey@gutierrez.biz', 'n****ey@williams-cervantes.com', 'o**********sh@lang.org', 'o*****bb@campbell.com', 'p*****ts@osborne.com', 'q*******ld@palmer-jones.com', 'q*****an@romero.biz', 'q****bs@gmail.com', 'r**********as@yahoo.com', 'r**********er@gmail.com', 'r**********es@gmail.com', 'r**********on@hughes.com', 'r********an@gardner-perez.com', 'r********es@gmail.com', 'r********rk@hampton.info', 'r********wn@pearson.biz', 'r*******99@ingram-martin.net', 'r*****24@mcdonald.com', 'r*****38@stanton-estes.info', 'r*****53@hotmail.com', 'r**nn@hotmail.com', 's************en@taylor.com', 's***********es@smith-mcguire.biz', 's***********ie@williams.com', 's***********sa@king.com', 's**********ke@gmail.com', 's*********en@yahoo.com', 's********sa@goodman.com', 's*******ny@yahoo.com', 's*******rk@robbins-guerrero.org', 's******90@hotmail.com', 's*****an@williams.com', 's*****es@gmail.com', 's****41@barber-case.com', 's****94@allen.com', 't****************er@morris-davis.biz', 't***********ey@yahoo.com', 't**********is@hotmail.com', 't**********or@sandoval.com', 't********ay@houston-gonzalez.net', 't********ie@gmail.com', 't*****01@yahoo.com', 't*****60@frederick.com', 't****46@marsh.biz', 't****on@bennett.com', 'u****ce@moran-norris.com', 'v*********th@webb-alvarez.com', 'v*******72@johnson-adams.com', 'v*******on@yahoo.com', 'v*******tt@gmail.com', 'v*****ls@cook.net', 'v****on@mason-lopez.com', 'w************le@yahoo.com', 'w**********es@gmail.com', 'w*******al@kim.biz', 'w*******ic@yahoo.com', 'w******37@yahoo.com', 'w******on@yahoo.com', 'w*****ey@pope.info', 'w*****ng@barnett.com', 'w****ht@hodge-johnson.info', 'x****na@gmail.com', 'x****on@gmail.com', 'y*******ez@yahoo.com', 'z******75@yahoo.com', 'z****rs@jackson.info']\n",
            "mailEncryption took 0.529 milliseconds to execute.\n",
            "['adamjohnson@johnson.com', 'adrianmoore@yahoo.com', 'agreen@hotmail.com', 'ajohnson@hotmail.com', 'alexandergibson@wilson.net', 'allisontorres@townsend-floyd.biz', 'alyssa33@hotmail.com', 'amber48@mendoza.net', 'amy16@yahoo.com', 'andrea22@sanchez.com', 'andrew61@yahoo.com', 'anelson@olsen-delgado.net', 'anthonybennett@phillips.com', 'anthonypeterson@gmail.com', 'antonio44@gmail.com', 'april28@hotmail.com', 'austinkeith@hotmail.com', 'ayersdonald@hotmail.com', 'baileyjuan@hotmail.com', 'bakerjonathan@gmail.com', 'bbray@yahoo.com', 'benjamin61@jones.com', 'benjaminlewis@henderson.com', 'blackkenneth@mckinney.com', 'brandon74@anderson.net', 'brittany10@montgomery.com', 'burnsjustin@hotmail.com', 'carterdawn@hotmail.com', 'cgallagher@yahoo.com', 'chad05@perkins.org', 'chapmanthomas@yahoo.com', 'charles97@burch.com', 'christinamorrow@yahoo.com', 'christopherelliott@gmail.com', 'christy08@smith.com', 'cindy64@wiley.com', 'cjohnson@hotmail.com', 'clinton91@yahoo.com', 'contrerasmarvin@yahoo.com', 'contreraswilliam@yahoo.com', 'cookjeff@barber.com', 'dana03@schmidt.biz', 'daniel05@gmail.com', 'david78@yahoo.com', 'debrarice@yahoo.com', 'dgarcia@gmail.com', 'dgardner@yahoo.com', 'diana78@lee.net', 'diazconnie@hotmail.com', 'dmills@morales-lucas.com', 'doneal@kerr.com', 'dwaynenash@adams.com', 'edward71@yahoo.com', 'eileenolsen@huber.com', 'elizabeth84@hotmail.com', 'elizabethwilliams@hotmail.com', 'emiller@hotmail.com', 'fduncan@gmail.com', 'feliciagonzales@yahoo.com', 'fergusonrobert@kramer-gibbs.org', 'frank89@hawkins.biz', 'garciarebecca@thomas.com', 'garciastacey@daugherty.biz', 'garrettdonna@ward-boyle.net', 'gilesjason@ward.net', 'greensteven@hotmail.com', 'griffinlinda@gmail.com', 'harringtonrussell@yahoo.com', 'harriscory@holt.org', 'henryallen@oliver.org', 'hollyboone@kirk.com', 'idiaz@coleman.biz', 'ihaney@hotmail.com', 'iholder@ward.com', 'iwatson@hotmail.com', 'jacksonjesse@mcmillan.biz', 'jacobskathryn@hotmail.com', 'james28@smith.com', 'james47@clarke.org', 'jason42@edwards-sims.biz', 'jason50@hotmail.com', 'jason51@yahoo.com', 'jeffrey04@hotmail.com', 'jennifer17@parker-johnson.info', 'jennifer33@jennings.org', 'jennycombs@clements.net', 'jermainegonzalez@griffin.com', 'jessica73@gmail.com', 'jmoore@gmail.com', 'joelblack@gmail.com', 'john97@allen.biz', 'johntaylor@hotmail.com', 'julie57@anderson-morales.info', 'kaitlynthomas@robertson.com', 'kara19@yahoo.com', 'kathleen21@yahoo.com', 'kathleenmason@gmail.com', 'kathymadden@clark.net', 'kayla63@hotmail.com', 'kelsey27@bailey.net', 'kennedysean@martinez.com', 'kenneth80@rogers.com', 'kmontoya@gmail.com', 'kramirez@green-molina.com', 'larsonmatthew@clark.com', 'laura03@robertson.com', 'lauren71@gmail.com', 'lawrence40@cox-murphy.info', 'lbrock@yahoo.com', 'lewisbobby@yahoo.com', 'lharris@gmail.com', 'lisa85@yahoo.com', 'margaretpatel@yahoo.com', 'mathisconnor@ayala-hall.biz', 'matthew20@davidson.com', 'mccartystephanie@jones.com', 'meganwilson@smith-wright.com', 'melissaballard@church.com', 'melissarandall@wiley.org', 'michaelcantu@farley.net', 'michaelfrank@yahoo.com', 'michaelmorrison@vega-ford.com', 'mjohnson@hotmail.com', 'mnavarro@thomas.com', 'moorewilliam@yahoo.com', 'mosesjames@yahoo.com', 'muellerjohn@yahoo.com', 'nancy44@price-smith.net', 'ngutierrez@shah.net', 'nicholaspadilla@carlson-copeland.com', 'nicole45@thomas.info', 'nicolemata@george.net', 'nkelley@gutierrez.biz', 'nmassey@williams-cervantes.com', 'nunezdalton@williams.net', 'nunezjoshua@patterson.com', 'omarwebb@campbell.com', 'oscarmcintosh@lang.org', 'proberts@osborne.com', 'qcoleman@romero.biz', 'qjacobs@gmail.com', 'qmacdonald@palmer-jones.com', 'rachel53@hotmail.com', 'rachelbrown@pearson.biz', 'randallthomas@yahoo.com', 'raymonddean@gardner-perez.com', 'rdunn@hotmail.com', 'rebeccacooper@gmail.com', 'reginald99@ingram-martin.net', 'richardhanson@hughes.com', 'richardmark@hampton.info', 'robert24@mcdonald.com', 'robert38@stanton-estes.info', 'robertmorales@gmail.com', 'rogersjames@gmail.com', 'salazarkaren@yahoo.com', 'samanthaburke@gmail.com', 'sandrapark@robbins-guerrero.org', 'schultzvalerie@williams.com', 'scott41@barber-case.com', 'scottteresa@goodman.com', 'shannon90@hotmail.com', 'shawjohnny@yahoo.com', 'shawn94@allen.com', 'shirleypetersen@taylor.com', 'smorales@gmail.com', 'spittman@williams.com', 'stephenfuentes@smith-mcguire.biz', 'stephensonlisa@king.com', 'taylorcourtney@yahoo.com', 'taylorjamie@gmail.com', 'terri46@marsh.biz', 'theresamathis@hotmail.com', 'thomas60@frederick.com', 'thorntonchristopher@morris-davis.biz', 'tiffanytaylor@sandoval.com', 'timothygray@houston-gonzalez.net', 'trevor01@yahoo.com', 'twilson@bennett.com', 'upierce@moran-norris.com', 'valeriesmith@webb-alvarez.com', 'vburton@mason-lopez.com', 'vdaniels@cook.net', 'veronica72@johnson-adams.com', 'vhenderson@yahoo.com', 'vickiscott@gmail.com', 'waltersdanielle@yahoo.com', 'wayneoneal@kim.biz', 'wbradley@pope.info', 'wcalderon@yahoo.com', 'wfleming@barnett.com', 'william37@yahoo.com', 'williamhughes@gmail.com', 'wilsoneric@yahoo.com', 'wwright@hodge-johnson.info', 'xmolina@gmail.com', 'xwalton@gmail.com', 'yhernandez@yahoo.com', 'zachary75@yahoo.com', 'zrogers@jackson.info']\n",
            "mailEncryption took 0.135 milliseconds to execute.\n",
            "['010**7', '014**7', '018**5', '022**7', '036**3', '039**9', '052**2', '066**0', '074**5', '080**6', '081**5', '093**9', '095**3', '095**4', '096**8', '100**7', '102**9', '106**1', '114**4', '119**1', '121**2', '135**0', '138**0', '138**6', '140**4', '143**6', '152**7', '161**0', '162**1', '166**3', '175**9', '179**0', '190**9', '192**8', '193**8', '194**0', '199**1', '199**6', '200**2', '206**6', '206**9', '222**2', '222**5', '224**0', '225**8', '237**5', '245**0', '245**1', '246**8', '256**1', '264**3', '277**8', '286**9', '290**6', '292**2', '294**6', '295**1', '297**5', '309**2', '312**2', '318**0', '332**4', '333**9', '336**9', '347**8', '350**1', '350**5', '358**5', '362**1', '365**9', '376**8', '381**0', '384**6', '386**2', '388**4', '396**2', '396**6', '401**8', '403**7', '404**1', '407**8', '413**7', '415**1', '418**5', '426**2', '426**5', '428**8', '430**7', '433**4', '434**0', '449**7', '453**6', '478**8', '502**1', '504**2', '506**9', '507**4', '513**5', '531**6', '537**8', '541**2', '564**6', '572**8', '575**9', '578**9', '579**0', '593**0', '594**6', '596**1', '616**4', '619**3', '619**9', '630**8', '633**9', '634**0', '638**1', '642**2', '645**8', '656**9', '660**8', '666**3', '671**0', '675**9', '678**4', '692**3', '703**2', '706**5', '708**0', '708**3', '711**3', '713**2', '714**5', '716**1', '717**9', '727**0', '728**8', '729**4', '731**5', '737**8', '738**9', '739**1', '739**6', '746**1', '751**9', '754**6', '755**9', '759**0', '759**1', '760**6', '766**5', '773**7', '782**8', '783**5', '785**9', '787**7', '789**3', '792**1', '792**4', '797**5', '804**0', '815**6', '826**5', '831**1', '842**5', '844**8', '846**7', '859**7', '866**8', '872**3', '872**4', '874**1', '892**9', '901**7', '913**2', '917**4', '922**3', '929**8', '931**2', '933**7', '936**2', '936**3', '937**8', '940**1', '951**1', '952**3', '954**2', '955**2', '956**4', '962**1', '973**2', '976**2', '978**2', '988**4', '992**0', '992**3', '993**9', '997**4', '997**9', '998**1', '998**7']\n",
            "pinEncryption took 0.135 milliseconds to execute.\n",
            "['010497', '014527', '018595', '022157', '036063', '039379', '052062', '066580', '074335', '080666', '081395', '093769', '095133', '095874', '096508', '100957', '102839', '106631', '114024', '119281', '121392', '135150', '138600', '138866', '140744', '143136', '152987', '161980', '162751', '166043', '175629', '179070', '190299', '192338', '193698', '194220', '199326', '199501', '200392', '206296', '206979', '222692', '222735', '224430', '225188', '237655', '245901', '245970', '246088', '256521', '264233', '277098', '286479', '290286', '292532', '294826', '295821', '297255', '309842', '312592', '318380', '332804', '333899', '336829', '347658', '350095', '350241', '358995', '362271', '365229', '376278', '381820', '384286', '386792', '388694', '396102', '396606', '401558', '403767', '404291', '407418', '413347', '415751', '418935', '426542', '426695', '428418', '430087', '433534', '434220', '449627', '453516', '478898', '502221', '504152', '506179', '507604', '513105', '531076', '537618', '541072', '564866', '572418', '575079', '578379', '579720', '593010', '594016', '596911', '616164', '619119', '619983', '630198', '633739', '634260', '638591', '642032', '645868', '656409', '660238', '666813', '671570', '675079', '678144', '692293', '703722', '706565', '708290', '708333', '711313', '713412', '714465', '716531', '717529', '727770', '728738', '729924', '731915', '737638', '738379', '739266', '739381', '746681', '751079', '754626', '755089', '759171', '759970', '760216', '766815', '773197', '782288', '783125', '785509', '787197', '789393', '792254', '792871', '797275', '804290', '815066', '826535', '831131', '842465', '844538', '846427', '859767', '866058', '872613', '872834', '874981', '892949', '901297', '913582', '917234', '922613', '929238', '931382', '933147', '936772', '936953', '937568', '940861', '951151', '952653', '954132', '955212', '956454', '962401', '973692', '976792', '978732', '988214', '992500', '992583', '993979', '997294', '997589', '998277', '998571']\n",
            "pinEncryption took 0.121 milliseconds to execute.\n",
            "{'age': {'amount': 43, 'with_encrypt': {'time': 0.3657341003417969, 'weight': 3}, 'without_encrypt': {'time': 0.15473365783691406, 'weight': 0}}, 'email': {'amount': 200, 'with_encrypt': {'time': 0.5285739898681641, 'weight': 5}, 'without_encrypt': {'time': 0.1354217529296875, 'weight': 0}}, 'pincode': {'amount': 200, 'with_encrypt': {'time': 0.13494491577148438, 'weight': 6}, 'without_encrypt': {'time': 0.12111663818359375, 'weight': 0}}}\n"
          ]
        }
      ],
      "source": [
        "import time\n",
        "\n",
        "def getExecTime(data, algo, flag):\n",
        "    start = time.time()\n",
        "    if flag:\n",
        "        data = algo(data)['data']\n",
        "    else:\n",
        "        data = data.unique()\n",
        "    end = time.time()\n",
        "    t = (end - start) * 1000\n",
        "    print(sorted(data))\n",
        "    print(f\"{algo.__name__} took {t:.3f} milliseconds to execute.\")\n",
        "    return t\n",
        "\n",
        "# M-Table\n",
        "m_table = {\n",
        "              'age': {'amount': len(df['Age']. unique ()), \n",
        "                      'with_encrypt': {'time': getExecTime(df['Age'], rangeEncryption, True), 'weight': weight_table['age'] },\n",
        "                      'without_encrypt': { 'time': getExecTime(df['Age'], rangeEncryption, False), 'weight': 0 }  \n",
        "                     },\n",
        "              'email': { 'amount': len(df['Email'].unique()), \n",
        "                      'with_encrypt': { 'time': getExecTime(df['Email'], mailEncryption, True), 'weight': weight_table['email'] },\n",
        "                      'without_encrypt': { 'time': getExecTime(df['Email'], mailEncryption, False), 'weight': 0 }  \n",
        "                     }, \n",
        "              'pincode': { 'amount': len(df['Pincode'].unique()), \n",
        "                      'with_encrypt': { 'time': getExecTime(df['Pincode'], pinEncryption, True), 'weight': weight_table['pincode'] },\n",
        "                      'without_encrypt': { 'time': getExecTime(df['Pincode'], pinEncryption, False), 'weight': 0 }  \n",
        "                     }\n",
        "          }\n",
        "print(m_table)\n"
      ]
    },
    {
      "cell_type": "code",
      "execution_count": null,
      "metadata": {
        "id": "4qf4jB58uQZF",
        "colab": {
          "base_uri": "https://localhost:8080/"
        },
        "outputId": "a7f13baa-3744-4a01-bd53-385af5da2cc3"
      },
      "outputs": [
        {
          "output_type": "stream",
          "name": "stdout",
          "text": [
            "7 0.4112720489501953 1.0292530059814453\n"
          ]
        }
      ],
      "source": [
        "tc = 7 # given\n",
        " \n",
        "tm = 0\n",
        "for obj in m_table:\n",
        "  tm += m_table[obj]['without_encrypt']['time']\n",
        " \n",
        "tp = 0\n",
        "for obj in m_table:\n",
        "  tp += m_table[obj]['with_encrypt']['time']\n",
        " \n",
        "print(tc, tm, tp)\n"
      ]
    },
    {
      "cell_type": "code",
      "execution_count": null,
      "metadata": {
        "id": "NmTRMr3iuVYc",
        "colab": {
          "base_uri": "https://localhost:8080/"
        },
        "outputId": "94959bec-29b9-48a3-e285-35ae35c130f4"
      },
      "outputs": [
        {
          "output_type": "stream",
          "name": "stdout",
          "text": [
            "5.559474945068359\n",
            "5.348474502563477\n",
            "4.955322265625\n",
            "['age', 'email', 'pincode']\n",
            "5.559474945068359\n",
            "5.348474502563477\n",
            "4.955322265625\n",
            "['age', 'email', 'pincode']\n",
            "5.559474945068359\n",
            "5.348474502563477\n",
            "4.955322265625\n",
            "['age', 'email', 'pincode']\n"
          ]
        }
      ],
      "source": [
        "def DED():\n",
        "  p = []\n",
        "  ts = tc - (tm + tp)\n",
        " \n",
        "  for obj in s_table:\n",
        "    print(ts)\n",
        "    if ts > (m_table[obj]['with_encrypt']['time'] - m_table[obj]['without_encrypt']['time']):\n",
        "      p.append(obj)\n",
        "      ts -= (m_table[obj]['with_encrypt']['time'] - m_table[obj]['without_encrypt']['time'])\n",
        "    else:\n",
        "      break\n",
        "  return p\n",
        "print(DED()) # tc = 6.3\n",
        "print(DED()) # tc = 6\n",
        "print(DED()) # tc = 7\n"
      ]
    },
    {
      "cell_type": "code",
      "execution_count": null,
      "metadata": {
        "id": "Cazvh-gYuan4",
        "colab": {
          "base_uri": "https://localhost:8080/",
          "height": 475
        },
        "outputId": "5ea1a09d-9db8-4d51-baab-5e55746c1366"
      },
      "outputs": [
        {
          "output_type": "stream",
          "name": "stdout",
          "text": [
            "5.559474945068359\n",
            "5.348474502563477\n",
            "4.955322265625\n"
          ]
        },
        {
          "output_type": "execute_result",
          "data": {
            "text/plain": [
              "                Name Gender      Age                             Email  \\\n",
              "0         Troy Davis      F  [50-59]               d******ce@yahoo.com   \n",
              "1      Nancy Sanford      M  [20-29]           s****41@barber-case.com   \n",
              "2    Danielle Mendez      F  [50-59]          u****ce@moran-norris.com   \n",
              "3      Patrick Davis      F  [20-29]               w******on@yahoo.com   \n",
              "4       Shawn Gibson      F  [20-29]              a*****on@hotmail.com   \n",
              "..               ...    ...      ...                               ...   \n",
              "195      Jane Tucker      F  [20-29]                 v*****ls@cook.net   \n",
              "196  Brianna Hammond      F  [20-29]                w*****ey@pope.info   \n",
              "197  Arthur Mckinney      M  [40-49]  s***********es@smith-mcguire.biz   \n",
              "198  Kathleen Cortez      M  [30-39]           r********wn@pearson.biz   \n",
              "199   Sarah Mckenzie      F  [20-29]               a****28@hotmail.com   \n",
              "\n",
              "    Pincode   Salary  \n",
              "0    675**9  78200.0  \n",
              "1    388**4  96520.0  \n",
              "2    277**8  65650.0  \n",
              "3    917**4  39700.0  \n",
              "4    039**9  91450.0  \n",
              "..      ...      ...  \n",
              "195  537**8  37490.0  \n",
              "196  401**8  40680.0  \n",
              "197  222**2  90450.0  \n",
              "198  901**7  97470.0  \n",
              "199  692**3  56550.0  \n",
              "\n",
              "[200 rows x 6 columns]"
            ],
            "text/html": [
              "\n",
              "  <div id=\"df-f1ab85c0-d003-4ca8-ad51-ac251822d998\">\n",
              "    <div class=\"colab-df-container\">\n",
              "      <div>\n",
              "<style scoped>\n",
              "    .dataframe tbody tr th:only-of-type {\n",
              "        vertical-align: middle;\n",
              "    }\n",
              "\n",
              "    .dataframe tbody tr th {\n",
              "        vertical-align: top;\n",
              "    }\n",
              "\n",
              "    .dataframe thead th {\n",
              "        text-align: right;\n",
              "    }\n",
              "</style>\n",
              "<table border=\"1\" class=\"dataframe\">\n",
              "  <thead>\n",
              "    <tr style=\"text-align: right;\">\n",
              "      <th></th>\n",
              "      <th>Name</th>\n",
              "      <th>Gender</th>\n",
              "      <th>Age</th>\n",
              "      <th>Email</th>\n",
              "      <th>Pincode</th>\n",
              "      <th>Salary</th>\n",
              "    </tr>\n",
              "  </thead>\n",
              "  <tbody>\n",
              "    <tr>\n",
              "      <th>0</th>\n",
              "      <td>Troy Davis</td>\n",
              "      <td>F</td>\n",
              "      <td>[50-59]</td>\n",
              "      <td>d******ce@yahoo.com</td>\n",
              "      <td>675**9</td>\n",
              "      <td>78200.0</td>\n",
              "    </tr>\n",
              "    <tr>\n",
              "      <th>1</th>\n",
              "      <td>Nancy Sanford</td>\n",
              "      <td>M</td>\n",
              "      <td>[20-29]</td>\n",
              "      <td>s****41@barber-case.com</td>\n",
              "      <td>388**4</td>\n",
              "      <td>96520.0</td>\n",
              "    </tr>\n",
              "    <tr>\n",
              "      <th>2</th>\n",
              "      <td>Danielle Mendez</td>\n",
              "      <td>F</td>\n",
              "      <td>[50-59]</td>\n",
              "      <td>u****ce@moran-norris.com</td>\n",
              "      <td>277**8</td>\n",
              "      <td>65650.0</td>\n",
              "    </tr>\n",
              "    <tr>\n",
              "      <th>3</th>\n",
              "      <td>Patrick Davis</td>\n",
              "      <td>F</td>\n",
              "      <td>[20-29]</td>\n",
              "      <td>w******on@yahoo.com</td>\n",
              "      <td>917**4</td>\n",
              "      <td>39700.0</td>\n",
              "    </tr>\n",
              "    <tr>\n",
              "      <th>4</th>\n",
              "      <td>Shawn Gibson</td>\n",
              "      <td>F</td>\n",
              "      <td>[20-29]</td>\n",
              "      <td>a*****on@hotmail.com</td>\n",
              "      <td>039**9</td>\n",
              "      <td>91450.0</td>\n",
              "    </tr>\n",
              "    <tr>\n",
              "      <th>...</th>\n",
              "      <td>...</td>\n",
              "      <td>...</td>\n",
              "      <td>...</td>\n",
              "      <td>...</td>\n",
              "      <td>...</td>\n",
              "      <td>...</td>\n",
              "    </tr>\n",
              "    <tr>\n",
              "      <th>195</th>\n",
              "      <td>Jane Tucker</td>\n",
              "      <td>F</td>\n",
              "      <td>[20-29]</td>\n",
              "      <td>v*****ls@cook.net</td>\n",
              "      <td>537**8</td>\n",
              "      <td>37490.0</td>\n",
              "    </tr>\n",
              "    <tr>\n",
              "      <th>196</th>\n",
              "      <td>Brianna Hammond</td>\n",
              "      <td>F</td>\n",
              "      <td>[20-29]</td>\n",
              "      <td>w*****ey@pope.info</td>\n",
              "      <td>401**8</td>\n",
              "      <td>40680.0</td>\n",
              "    </tr>\n",
              "    <tr>\n",
              "      <th>197</th>\n",
              "      <td>Arthur Mckinney</td>\n",
              "      <td>M</td>\n",
              "      <td>[40-49]</td>\n",
              "      <td>s***********es@smith-mcguire.biz</td>\n",
              "      <td>222**2</td>\n",
              "      <td>90450.0</td>\n",
              "    </tr>\n",
              "    <tr>\n",
              "      <th>198</th>\n",
              "      <td>Kathleen Cortez</td>\n",
              "      <td>M</td>\n",
              "      <td>[30-39]</td>\n",
              "      <td>r********wn@pearson.biz</td>\n",
              "      <td>901**7</td>\n",
              "      <td>97470.0</td>\n",
              "    </tr>\n",
              "    <tr>\n",
              "      <th>199</th>\n",
              "      <td>Sarah Mckenzie</td>\n",
              "      <td>F</td>\n",
              "      <td>[20-29]</td>\n",
              "      <td>a****28@hotmail.com</td>\n",
              "      <td>692**3</td>\n",
              "      <td>56550.0</td>\n",
              "    </tr>\n",
              "  </tbody>\n",
              "</table>\n",
              "<p>200 rows × 6 columns</p>\n",
              "</div>\n",
              "      <button class=\"colab-df-convert\" onclick=\"convertToInteractive('df-f1ab85c0-d003-4ca8-ad51-ac251822d998')\"\n",
              "              title=\"Convert this dataframe to an interactive table.\"\n",
              "              style=\"display:none;\">\n",
              "        \n",
              "  <svg xmlns=\"http://www.w3.org/2000/svg\" height=\"24px\"viewBox=\"0 0 24 24\"\n",
              "       width=\"24px\">\n",
              "    <path d=\"M0 0h24v24H0V0z\" fill=\"none\"/>\n",
              "    <path d=\"M18.56 5.44l.94 2.06.94-2.06 2.06-.94-2.06-.94-.94-2.06-.94 2.06-2.06.94zm-11 1L8.5 8.5l.94-2.06 2.06-.94-2.06-.94L8.5 2.5l-.94 2.06-2.06.94zm10 10l.94 2.06.94-2.06 2.06-.94-2.06-.94-.94-2.06-.94 2.06-2.06.94z\"/><path d=\"M17.41 7.96l-1.37-1.37c-.4-.4-.92-.59-1.43-.59-.52 0-1.04.2-1.43.59L10.3 9.45l-7.72 7.72c-.78.78-.78 2.05 0 2.83L4 21.41c.39.39.9.59 1.41.59.51 0 1.02-.2 1.41-.59l7.78-7.78 2.81-2.81c.8-.78.8-2.07 0-2.86zM5.41 20L4 18.59l7.72-7.72 1.47 1.35L5.41 20z\"/>\n",
              "  </svg>\n",
              "      </button>\n",
              "      \n",
              "  <style>\n",
              "    .colab-df-container {\n",
              "      display:flex;\n",
              "      flex-wrap:wrap;\n",
              "      gap: 12px;\n",
              "    }\n",
              "\n",
              "    .colab-df-convert {\n",
              "      background-color: #E8F0FE;\n",
              "      border: none;\n",
              "      border-radius: 50%;\n",
              "      cursor: pointer;\n",
              "      display: none;\n",
              "      fill: #1967D2;\n",
              "      height: 32px;\n",
              "      padding: 0 0 0 0;\n",
              "      width: 32px;\n",
              "    }\n",
              "\n",
              "    .colab-df-convert:hover {\n",
              "      background-color: #E2EBFA;\n",
              "      box-shadow: 0px 1px 2px rgba(60, 64, 67, 0.3), 0px 1px 3px 1px rgba(60, 64, 67, 0.15);\n",
              "      fill: #174EA6;\n",
              "    }\n",
              "\n",
              "    [theme=dark] .colab-df-convert {\n",
              "      background-color: #3B4455;\n",
              "      fill: #D2E3FC;\n",
              "    }\n",
              "\n",
              "    [theme=dark] .colab-df-convert:hover {\n",
              "      background-color: #434B5C;\n",
              "      box-shadow: 0px 1px 3px 1px rgba(0, 0, 0, 0.15);\n",
              "      filter: drop-shadow(0px 1px 2px rgba(0, 0, 0, 0.3));\n",
              "      fill: #FFFFFF;\n",
              "    }\n",
              "  </style>\n",
              "\n",
              "      <script>\n",
              "        const buttonEl =\n",
              "          document.querySelector('#df-f1ab85c0-d003-4ca8-ad51-ac251822d998 button.colab-df-convert');\n",
              "        buttonEl.style.display =\n",
              "          google.colab.kernel.accessAllowed ? 'block' : 'none';\n",
              "\n",
              "        async function convertToInteractive(key) {\n",
              "          const element = document.querySelector('#df-f1ab85c0-d003-4ca8-ad51-ac251822d998');\n",
              "          const dataTable =\n",
              "            await google.colab.kernel.invokeFunction('convertToInteractive',\n",
              "                                                     [key], {});\n",
              "          if (!dataTable) return;\n",
              "\n",
              "          const docLinkHtml = 'Like what you see? Visit the ' +\n",
              "            '<a target=\"_blank\" href=https://colab.research.google.com/notebooks/data_table.ipynb>data table notebook</a>'\n",
              "            + ' to learn more about interactive tables.';\n",
              "          element.innerHTML = '';\n",
              "          dataTable['output_type'] = 'display_data';\n",
              "          await google.colab.output.renderOutput(dataTable, element);\n",
              "          const docLink = document.createElement('div');\n",
              "          docLink.innerHTML = docLinkHtml;\n",
              "          element.appendChild(docLink);\n",
              "        }\n",
              "      </script>\n",
              "    </div>\n",
              "  </div>\n",
              "  "
            ]
          },
          "metadata": {},
          "execution_count": 20
        }
      ],
      "source": [
        "for obj in DED():\n",
        "  if obj == 'age':\n",
        "    df['Age'] = rangeEncryption(df['Age'])['data']\n",
        "  elif obj == 'email':\n",
        "    df['Email'] = mailEncryption(df['Email'])['data']\n",
        "  else :\n",
        "    df['Pincode'] = pinEncryption(df['Pincode'])['data']\n",
        "df # tc = 7\n"
      ]
    }
  ],
  "metadata": {
    "colab": {
      "provenance": []
    },
    "kernelspec": {
      "display_name": "Python 3",
      "name": "python3"
    },
    "language_info": {
      "name": "python"
    }
  },
  "nbformat": 4,
  "nbformat_minor": 0
}